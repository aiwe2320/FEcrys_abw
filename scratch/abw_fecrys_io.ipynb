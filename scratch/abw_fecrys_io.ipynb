{
 "cells": [
  {
   "cell_type": "code",
   "execution_count": 2,
   "id": "35cf3dff",
   "metadata": {},
   "outputs": [],
   "source": [
    "import pickle\n",
    "import numpy as np"
   ]
  },
  {
   "cell_type": "code",
   "execution_count": 12,
   "id": "53e8e7cb",
   "metadata": {},
   "outputs": [
    {
     "name": "stdout",
     "output_type": "stream",
     "text": [
      "<class 'dict'>\n",
      "dict_keys(['MD dataset', 'args_initialise_object', 'args_initialise_system', 'args_initialise_simulation'])\n",
      "<class 'dict'>\n",
      "dict_keys(['xyz', 'COMs', 'b', 'u', 'T', 'rbv', 'stride_save_frame', 'u_full'])\n"
     ]
    }
   ],
   "source": [
    "data_path = 'O/MM/GAFF_sc/veliparib/data/veliparib_dataset_I_NVT_cell_111_CUT'\n",
    "with open(data_path, 'rb') as f:\n",
    "    veli_data = pickle.load(f)\n",
    "\n",
    "print(type(veli_data))\n",
    "print(veli_data.keys())\n",
    "print(type(veli_data['MD dataset']))\n",
    "print(veli_data['MD dataset'].keys())\n",
    "d = veli_data['MD dataset']"
   ]
  },
  {
   "cell_type": "code",
   "execution_count": 48,
   "id": "13ec954c",
   "metadata": {},
   "outputs": [
    {
     "name": "stdout",
     "output_type": "stream",
     "text": [
      "COMs (60000, 1, 3)\n",
      "xyz (60000, 272, 3)\n",
      "b (60000, 3, 3)\n",
      "u (60000, 1)\n",
      "T (150000,)\n",
      "u_full (150000, 1)\n",
      "3 <class 'list'>\n",
      "50\n"
     ]
    }
   ],
   "source": [
    "print('COMs', np.shape(d['COMs']))\n",
    "print('xyz', d['xyz'].shape)\n",
    "print('b', d['b'].shape)\n",
    "print('u', d['u'].shape)\n",
    "print('T', d['T'].shape)\n",
    "print('u_full', d['u_full'].shape)\n",
    "print(len(d['rbv']), type(d['rbv']))\n",
    "print(d['stride_save_frame'])"
   ]
  },
  {
   "cell_type": "code",
   "execution_count": null,
   "id": "092b43c0",
   "metadata": {},
   "outputs": [
    {
     "name": "stdout",
     "output_type": "stream",
     "text": [
      "[[[ 0.82410002  0.          0.        ]\n",
      "  [-0.02862389  0.81559783  0.        ]\n",
      "  [ 0.01127709 -0.0075703   3.80087566]]\n",
      "\n",
      " [[ 0.82410002  0.          0.        ]\n",
      "  [-0.02862389  0.81559783  0.        ]\n",
      "  [ 0.01127709 -0.0075703   3.80087566]]\n",
      "\n",
      " [[ 0.82410002  0.          0.        ]\n",
      "  [-0.02862389  0.81559783  0.        ]\n",
      "  [ 0.01127709 -0.0075703   3.80087566]]\n",
      "\n",
      " ...\n",
      "\n",
      " [[ 0.82410002  0.          0.        ]\n",
      "  [-0.02862389  0.81559783  0.        ]\n",
      "  [ 0.01127709 -0.0075703   3.80087566]]\n",
      "\n",
      " [[ 0.82410002  0.          0.        ]\n",
      "  [-0.02862389  0.81559783  0.        ]\n",
      "  [ 0.01127709 -0.0075703   3.80087566]]\n",
      "\n",
      " [[ 0.82410002  0.          0.        ]\n",
      "  [-0.02862389  0.81559783  0.        ]\n",
      "  [ 0.01127709 -0.0075703   3.80087566]]]\n"
     ]
    }
   ],
   "source": [
    "# Check box vectors\n",
    "print(d['b'][:])\n",
    "# Turns out they're all the same! Which makes sense because the data from NVT simulation"
   ]
  },
  {
   "cell_type": "code",
   "execution_count": 49,
   "id": "a7ff64e6",
   "metadata": {},
   "outputs": [
    {
     "name": "stdout",
     "output_type": "stream",
     "text": [
      "<class 'numpy.ndarray'>\n",
      "(272, 3)\n",
      "<class 'numpy.ndarray'>\n",
      "(3, 3)\n",
      "<class 'numpy.ndarray'>\n",
      "(272, 3)\n",
      "0\n"
     ]
    }
   ],
   "source": [
    "# What da heck is rbv?\n",
    "for i in d['rbv']:\n",
    "    print(type(i))\n",
    "    print(i.shape)\n",
    "print(np.sum(np.isclose(d['rbv'][2], d['rbv'][0])))"
   ]
  },
  {
   "cell_type": "code",
   "execution_count": 40,
   "id": "6befe401",
   "metadata": {},
   "outputs": [
    {
     "name": "stdout",
     "output_type": "stream",
     "text": [
      "dict_keys(['PDB', 'n_atoms_mol', 'name'])\n",
      "dict_keys(['rbv', 'minimise', 'T', 'timestep_ps', 'collision_rate', 'P', 'barostat_type', 'barostat_1_scaling', 'stride_barostat', 'custom_integrator'])\n",
      "dict_keys(['PME_cutoff', 'removeCMMotion', 'nonbondedMethod', 'custom_EwaldErrorTolerance', 'constraints'])\n"
     ]
    }
   ],
   "source": [
    "print(veli_data['args_initialise_object'].keys())\n",
    "print(veli_data['args_initialise_simulation'].keys())\n",
    "print(veli_data['args_initialise_system'].keys())"
   ]
  },
  {
   "cell_type": "code",
   "execution_count": 44,
   "id": "113807ee",
   "metadata": {},
   "outputs": [
    {
     "name": "stdout",
     "output_type": "stream",
     "text": [
      "{'PDB': './MM/GAFF_sc/veliparib/veliparib_I_equilibrated_cell_111.pdb', 'n_atoms_mol': 34, 'name': 'veliparib'}\n",
      "{'PME_cutoff': 0.36, 'removeCMMotion': True, 'nonbondedMethod': PME, 'custom_EwaldErrorTolerance': 0.0001, 'constraints': None}\n"
     ]
    }
   ],
   "source": [
    "print(veli_data['args_initialise_object'])\n",
    "print(veli_data['args_initialise_system'])"
   ]
  },
  {
   "cell_type": "code",
   "execution_count": 58,
   "id": "50f19f37",
   "metadata": {},
   "outputs": [
    {
     "name": "stdout",
     "output_type": "stream",
     "text": [
      "300.12883819956073\n"
     ]
    }
   ],
   "source": [
    "print(np.mean(d['T']))"
   ]
  },
  {
   "cell_type": "code",
   "execution_count": 57,
   "id": "ef5f1b6f",
   "metadata": {},
   "outputs": [
    {
     "name": "stdout",
     "output_type": "stream",
     "text": [
      "[[[  1   2   3]\n",
      "  [  4   5   6]\n",
      "  [  7   8   9]\n",
      "  [ 10  11  12]]\n",
      "\n",
      " [[ 10  20  30]\n",
      "  [ 40  50  60]\n",
      "  [ 70  80  90]\n",
      "  [100 110 120]]]\n",
      "(2, 4, 3)\n",
      "(4, 3)\n"
     ]
    }
   ],
   "source": [
    "import numpy as np\n",
    "t = np.array([[[1,2,3], [4,5,6], [7,8,9], [10,11,12]], [[10,20,30], [40,50,60], [70,80,90], [100,110,120]]])\n",
    "print(t)\n",
    "print(t.shape)\n",
    "print(t.sum(axis=0).shape)"
   ]
  },
  {
   "cell_type": "markdown",
   "id": "57219833",
   "metadata": {},
   "source": [
    "# Outputs"
   ]
  },
  {
   "cell_type": "code",
   "execution_count": 60,
   "id": "6176a9c3",
   "metadata": {},
   "outputs": [],
   "source": [
    "misc_path = 'O/NN/training_results/misc/veliparib_I_111_trying_small_dataset_SC__misc_'\n",
    "inv_path = 'O/NN/training_results/misc/veliparib_I_111_trying_small_dataset_SC__inv_test_'\n",
    "with open(misc_path, 'rb') as f:\n",
    "    misc = pickle.load(f)\n",
    "with open(inv_path, 'rb') as g:\n",
    "    inv = pickle.load(g)"
   ]
  },
  {
   "cell_type": "code",
   "execution_count": null,
   "id": "515ceed7",
   "metadata": {},
   "outputs": [],
   "source": [
    "# Misc comes from:\n",
    "'''\n",
    "def save_the_above_(self, name : str):\n",
    "        save_pickle_([\n",
    "                      self.FEs,\n",
    "                      self.SEs,\n",
    "                      self.estimates,\n",
    "                      self.evaluation_grid,\n",
    "                      self.AVMD_T_f,\n",
    "                      self.training_time,\n",
    "                      ], name)\n",
    "'''"
   ]
  },
  {
   "cell_type": "code",
   "execution_count": 70,
   "id": "d8460eea",
   "metadata": {},
   "outputs": [
    {
     "name": "stdout",
     "output_type": "stream",
     "text": [
      "<class 'list'>\n",
      "6 \n",
      "\n",
      "<class 'dict'>\n",
      "(40,)\n",
      "<class 'dict'>\n",
      "(40,)\n",
      "<class 'numpy.ndarray'>\n",
      "(1, 40, 13)\n",
      "<class 'numpy.ndarray'>\n",
      "(40,)\n",
      "<class 'numpy.ndarray'>\n",
      "(2000, 1)\n",
      "<class 'float'>\n",
      "52.05281944672266\n"
     ]
    }
   ],
   "source": [
    "print(type(misc))\n",
    "print(len(misc), '\\n')\n",
    "for i in misc:\n",
    "    print(type(i))\n",
    "    if type(i) == dict:\n",
    "        print(i[0].shape)\n",
    "    elif type(i) == np.ndarray:\n",
    "        print(i.shape)\n",
    "    else:\n",
    "        print(i)"
   ]
  },
  {
   "cell_type": "markdown",
   "id": "50643432",
   "metadata": {},
   "source": [
    "# Check 'A' data"
   ]
  },
  {
   "cell_type": "code",
   "execution_count": 4,
   "id": "72113dd2",
   "metadata": {},
   "outputs": [],
   "source": [
    "A_npt_path = 'O/MM/molecules/A/data/NPT/A_LJ_0.8_0.8_NPT_dataset_Form_hcp_Cell_smaller_Temp_60'\n",
    "with open(A_npt_path, 'rb') as f:\n",
    "    A_npt = pickle.load(f)"
   ]
  },
  {
   "cell_type": "code",
   "execution_count": 13,
   "id": "21894dda",
   "metadata": {},
   "outputs": [
    {
     "name": "stdout",
     "output_type": "stream",
     "text": [
      "861.1874110627109\n"
     ]
    }
   ],
   "source": [
    "print(A_npt['MD dataset']['u'].mean())"
   ]
  }
 ],
 "metadata": {
  "kernelspec": {
   "display_name": "fecrys",
   "language": "python",
   "name": "python3"
  },
  "language_info": {
   "codemirror_mode": {
    "name": "ipython",
    "version": 3
   },
   "file_extension": ".py",
   "mimetype": "text/x-python",
   "name": "python",
   "nbconvert_exporter": "python",
   "pygments_lexer": "ipython3",
   "version": "3.10.14"
  }
 },
 "nbformat": 4,
 "nbformat_minor": 5
}
