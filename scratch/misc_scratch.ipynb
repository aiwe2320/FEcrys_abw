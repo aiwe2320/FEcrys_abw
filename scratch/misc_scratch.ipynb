{
 "cells": [
  {
   "cell_type": "code",
   "execution_count": 6,
   "id": "8b0df17c",
   "metadata": {},
   "outputs": [
    {
     "name": "stdout",
     "output_type": "stream",
     "text": [
      "4\n",
      "100\n"
     ]
    }
   ],
   "source": [
    "def foo(x): return x**2\n",
    "print(foo(2))\n",
    "r = foo\n",
    "print(r(10))"
   ]
  },
  {
   "cell_type": "code",
   "execution_count": 4,
   "id": "c1bf9ecb",
   "metadata": {},
   "outputs": [
    {
     "ename": "SyntaxError",
     "evalue": "invalid syntax (3937814321.py, line 1)",
     "output_type": "error",
     "traceback": [
      "\u001b[0;36m  Cell \u001b[0;32mIn[4], line 1\u001b[0;36m\u001b[0m\n\u001b[0;31m    r = def foo(x): return x**2\u001b[0m\n\u001b[0m        ^\u001b[0m\n\u001b[0;31mSyntaxError\u001b[0m\u001b[0;31m:\u001b[0m invalid syntax\n"
     ]
    }
   ],
   "source": [
    "r = def foo(x): return x**2\n"
   ]
  },
  {
   "cell_type": "code",
   "execution_count": 1,
   "id": "4d194480",
   "metadata": {},
   "outputs": [
    {
     "name": "stdout",
     "output_type": "stream",
     "text": [
      "29\n"
     ]
    }
   ],
   "source": [
    "a = (lambda x, y: x**2 + y**2)(2,5)\n",
    "print(a)"
   ]
  },
  {
   "cell_type": "code",
   "execution_count": 4,
   "id": "669af903",
   "metadata": {},
   "outputs": [
    {
     "name": "stdout",
     "output_type": "stream",
     "text": [
      "56\n"
     ]
    }
   ],
   "source": [
    "def boo(x,y,z): return x**2 + y**2 + z**2\n",
    "args = (2,4,6)\n",
    "print(boo(*args))"
   ]
  },
  {
   "cell_type": "code",
   "execution_count": 5,
   "id": "199def53",
   "metadata": {},
   "outputs": [
    {
     "name": "stdout",
     "output_type": "stream",
     "text": [
      "9\n",
      "1.0\n"
     ]
    }
   ],
   "source": [
    "class Scratch():\n",
    "    def __init__(self, foo, bar):\n",
    "        self.foo = foo\n",
    "        self.bar = bar\n",
    "    \n",
    "    def mult(self, x):\n",
    "        return self.foo * x\n",
    "    \n",
    "    def div(self, x):\n",
    "        return self.foo / x\n",
    "\n",
    "    def done(self, func, x):\n",
    "        return func(x)\n",
    "\n",
    "s = Scratch(3, 7)\n",
    "print(s.done(s.mult, 3))\n",
    "print(s.done(s.div, 3))"
   ]
  },
  {
   "cell_type": "code",
   "execution_count": null,
   "id": "c656874d",
   "metadata": {},
   "outputs": [],
   "source": []
  }
 ],
 "metadata": {
  "kernelspec": {
   "display_name": "fecrys",
   "language": "python",
   "name": "python3"
  },
  "language_info": {
   "codemirror_mode": {
    "name": "ipython",
    "version": 3
   },
   "file_extension": ".py",
   "mimetype": "text/x-python",
   "name": "python",
   "nbconvert_exporter": "python",
   "pygments_lexer": "ipython3",
   "version": "3.10.14"
  }
 },
 "nbformat": 4,
 "nbformat_minor": 5
}
